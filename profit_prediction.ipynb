{
  "cells": [
    {
      "cell_type": "markdown",
      "metadata": {
        "id": "view-in-github",
        "colab_type": "text"
      },
      "source": [
        "<a href=\"https://colab.research.google.com/github/rohithreddy1229/projects/blob/main/profit_prediction.ipynb\" target=\"_parent\"><img src=\"https://colab.research.google.com/assets/colab-badge.svg\" alt=\"Open In Colab\"/></a>"
      ]
    },
    {
      "cell_type": "code",
      "execution_count": 3,
      "id": "f55a633b",
      "metadata": {
        "colab": {
          "base_uri": "https://localhost:8080/"
        },
        "id": "f55a633b",
        "outputId": "eddc18cb-0153-45f7-e990-55e6d2966627"
      },
      "outputs": [
        {
          "output_type": "stream",
          "name": "stdout",
          "text": [
            "   R&D Spend  Administration  Marketing Spend     Profit\n",
            "0  165349.20       136897.80        471784.10  192261.83\n",
            "1  162597.70       151377.59        443898.53  191792.06\n",
            "2  153441.51       101145.55        407934.54  191050.39\n",
            "3  144372.41       118671.85        383199.62  182901.99\n",
            "4  142107.34        91391.77        366168.42  166187.94\n"
          ]
        }
      ],
      "source": [
        "import numpy as np\n",
        "import pandas as pd\n",
        "url='https://raw.githubusercontent.com/rohithreddy1229/projects/main/50_Startups.csv'\n",
        "data=pd.read_csv(url)\n",
        "print(data.head())"
      ]
    },
    {
      "cell_type": "code",
      "execution_count": 4,
      "id": "f81b0914",
      "metadata": {
        "id": "f81b0914"
      },
      "outputs": [],
      "source": [
        "x = data[[\"R&D Spend\", \"Administration\", \"Marketing Spend\"]]\n",
        "y = data[\"Profit\"]\n",
        "\n",
        "x = x.to_numpy()\n",
        "y = y.to_numpy()"
      ]
    },
    {
      "cell_type": "code",
      "execution_count": 5,
      "id": "62e2c1df",
      "metadata": {
        "id": "62e2c1df"
      },
      "outputs": [],
      "source": [
        "#Dividing the data into train set and test set\n",
        "\n",
        "from sklearn.model_selection import train_test_split\n",
        "x_train, x_test, y_train, y_test = train_test_split(x, y, test_size=0.2, random_state=0)"
      ]
    },
    {
      "cell_type": "code",
      "execution_count": 6,
      "id": "d67f22f5",
      "metadata": {
        "id": "d67f22f5"
      },
      "outputs": [],
      "source": [
        "#construction of linear regression\n",
        "\n",
        "from sklearn.linear_model import LinearRegression\n",
        "model=LinearRegression()\n",
        "model.fit(x_train,y_train)\n",
        "y_pred=np.round(model.predict(x_test),2)"
      ]
    },
    {
      "cell_type": "code",
      "execution_count": 7,
      "id": "cfe96e27",
      "metadata": {
        "colab": {
          "base_uri": "https://localhost:8080/"
        },
        "id": "cfe96e27",
        "outputId": "7e0b3ac8-ea3f-47b2-de34-5302abdd5530"
      },
      "outputs": [
        {
          "output_type": "stream",
          "name": "stdout",
          "text": [
            "original profits of test set \t predicted profits of test set by model\n",
            "103282.38 \t\t\t 103901.9\n",
            "144259.4 \t\t\t 132763.06\n",
            "146121.95 \t\t\t 133567.9\n",
            "77798.83 \t\t\t 72911.79\n",
            "191050.39 \t\t\t 179627.93\n",
            "105008.31 \t\t\t 115166.65\n",
            "81229.06 \t\t\t 67113.58\n",
            "97483.56 \t\t\t 98154.81\n",
            "110352.25 \t\t\t 114756.12\n",
            "166187.94 \t\t\t 169064.01\n"
          ]
        }
      ],
      "source": [
        "#testing the model with test set\n",
        "\n",
        "print(\"original profits of test set\",\"\\t\",\"predicted profits of test set by model\")\n",
        "for i in range(10):\n",
        "    print(y_test[i],\"\\t\\t\\t\",y_pred[i])"
      ]
    },
    {
      "cell_type": "code",
      "execution_count": 8,
      "id": "387fbfea",
      "metadata": {
        "colab": {
          "base_uri": "https://localhost:8080/"
        },
        "id": "387fbfea",
        "outputId": "083c7b2a-e90b-4046-e7a9-7b9fd815d1c6"
      },
      "outputs": [
        {
          "output_type": "stream",
          "name": "stdout",
          "text": [
            "enter no.of companies:5\n",
            "[[148342.45 161453.68 372881.08]\n",
            " [860461.8  628100.52 884358.17]\n",
            " [856820.85 510305.9  476697.02]\n",
            " [883162.71 122564.04 256311.4 ]\n",
            " [860136.44 296617.99 938778.57]]\n"
          ]
        }
      ],
      "source": [
        "#generating random \"R&D Spend\",\"Administration\"&\"Marketing Spend\" for n companies\n",
        "\n",
        "n=int(input(\"enter no.of companies:\"))\n",
        "arr = np.round(np.random.uniform(low=0.0, high=1000000.0, size=(n,3)),2)\n",
        "print(arr)"
      ]
    },
    {
      "cell_type": "code",
      "execution_count": 9,
      "id": "863c1be1",
      "metadata": {
        "colab": {
          "base_uri": "https://localhost:8080/"
        },
        "id": "863c1be1",
        "outputId": "dc9e204f-6875-452b-8d90-29e4f2464308"
      },
      "outputs": [
        {
          "output_type": "stream",
          "name": "stdout",
          "text": [
            "profits of the given 5 companies are:\n",
            "176212.42439906654\n",
            "762309.3394534218\n",
            "741861.3881518352\n",
            "743331.3992325289\n",
            "754201.9806110534\n"
          ]
        }
      ],
      "source": [
        "#predicting the profit of each company\n",
        "\n",
        "predicted_profit=model.predict(arr)\n",
        "print(\"profits of the given {0} companies are:\".format(n))\n",
        "for i in range(n):\n",
        "    print(predicted_profit[i])"
      ]
    },
    {
      "cell_type": "code",
      "execution_count": 9,
      "id": "06b2196a",
      "metadata": {
        "id": "06b2196a"
      },
      "outputs": [],
      "source": []
    }
  ],
  "metadata": {
    "kernelspec": {
      "display_name": "Python 3 (ipykernel)",
      "language": "python",
      "name": "python3"
    },
    "language_info": {
      "codemirror_mode": {
        "name": "ipython",
        "version": 3
      },
      "file_extension": ".py",
      "mimetype": "text/x-python",
      "name": "python",
      "nbconvert_exporter": "python",
      "pygments_lexer": "ipython3",
      "version": "3.9.12"
    },
    "colab": {
      "provenance": [],
      "include_colab_link": true
    }
  },
  "nbformat": 4,
  "nbformat_minor": 5
}